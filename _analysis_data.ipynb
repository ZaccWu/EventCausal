{
 "cells": [
  {
   "cell_type": "code",
   "execution_count": 1,
   "id": "1be7cf7e",
   "metadata": {
    "pycharm": {
     "name": "#%%\n"
    }
   },
   "outputs": [],
   "source": [
    "import numpy as np\n",
    "import pandas as pd\n",
    "import matplotlib.pyplot as plt\n",
    "import seaborn as sns\n",
    "import os"
   ]
  },
  {
   "cell_type": "code",
   "execution_count": 4,
   "outputs": [
    {
     "name": "stdout",
     "output_type": "stream",
     "text": [
      "Num of video:  100\n",
      "Num of video:  200\n",
      "Num of video:  300\n",
      "Num of video:  400\n",
      "Num of video:  500\n",
      "Num of video:  600\n",
      "Num of video:  700\n",
      "Num of video:  800\n",
      "Num of video:  900\n",
      "Num of video:  1000\n",
      "Num of video:  1100\n",
      "Num of video:  1200\n",
      "Num of video:  1300\n",
      "Num of video:  1400\n",
      "Num of video:  1500\n",
      "Num of video:  1600\n",
      "Num of video:  1700\n",
      "Num of video:  1800\n",
      "Num of video:  1900\n",
      "Num of video:  2000\n",
      "Num of video:  2100\n",
      "Num of video:  2200\n",
      "Num of video:  2300\n",
      "Num of video:  2400\n",
      "Num of video:  2500\n",
      "Num of video:  2600\n",
      "Num of video:  2700\n",
      "Num of video:  2800\n",
      "Num of video:  2900\n",
      "Num of video:  3000\n",
      "Num of video:  3100\n",
      "Num of video:  3200\n",
      "Num of video:  3300\n",
      "Num of video:  3400\n",
      "Num of video:  3500\n",
      "Num of video:  3600\n",
      "Num of video:  3700\n",
      "Num of video:  3800\n",
      "Num of video:  3900\n",
      "Num of video:  4000\n",
      "Num of video:  4100\n",
      "Num of video:  4200\n",
      "Num of video:  4300\n",
      "Num of video:  4400\n",
      "Num of video:  4500\n",
      "Num of video:  4600\n",
      "Num of video:  4700\n",
      "Num of video:  4800\n",
      "Num of video:  4900\n",
      "Num of video:  5000\n",
      "Num of video:  5100\n",
      "Num of video:  5200\n",
      "Num of video:  5300\n",
      "Num of video:  5400\n",
      "Num of video:  5500\n",
      "Num of video:  5600\n",
      "Num of video:  5700\n",
      "Num of video:  5800\n",
      "Num of video:  5900\n",
      "Num of video:  6000\n",
      "Num of video:  6100\n",
      "Num of video:  6200\n",
      "Num of video:  6300\n",
      "Num of video:  6400\n",
      "Num of video:  6500\n",
      "Num of video:  6600\n",
      "Num of video:  6700\n",
      "Num of video:  6800\n",
      "Num of video:  6900\n",
      "Num of video:  7000\n",
      "Num of video:  7100\n",
      "Num of video:  7200\n",
      "Num of video:  7300\n",
      "Num of video:  7400\n",
      "Num of video:  7500\n",
      "Num of video:  7600\n",
      "Num of video:  7700\n",
      "Num of video:  7800\n",
      "Num of video:  7900\n",
      "Num of video:  8000\n",
      "Num of video:  8100\n",
      "Num of video:  8200\n",
      "Num of video:  8300\n",
      "Num of video:  8400\n",
      "Num of video:  8500\n",
      "Num of video:  8600\n",
      "Num of video:  8700\n",
      "Num of video:  8800\n",
      "Num of video:  8900\n",
      "Num of video:  9000\n",
      "Num of video:  9100\n",
      "Num of video:  9200\n",
      "Num of video:  9300\n",
      "Num of video:  9400\n",
      "Num of video:  9500\n",
      "Num of video:  9600\n",
      "Num of video:  9700\n",
      "Num of video:  9800\n",
      "Num of video:  9900\n",
      "Num of video:  10000\n",
      "Num of video:  10100\n",
      "Num of video:  10200\n",
      "Num of video:  10300\n",
      "Num of video:  10400\n",
      "Num of video:  10500\n",
      "Num of video:  10600\n",
      "Num of video:  10700\n",
      "Num of video:  10800\n",
      "Num of video:  10900\n",
      "Num of video:  11000\n",
      "Num of video:  11100\n",
      "Num of video:  11200\n",
      "Num of video:  11300\n",
      "Num of video:  11400\n",
      "Num of video:  11500\n",
      "Num of video:  11600\n",
      "Num of video:  11700\n",
      "Num of video:  11800\n",
      "Num of video:  11900\n",
      "Num of video:  12000\n",
      "Num of video:  12100\n",
      "Num of video:  12200\n",
      "Num of video:  12300\n",
      "Num of video:  12400\n",
      "Num of video:  12500\n",
      "Num of video:  12600\n",
      "Num of video:  12700\n",
      "Num of video:  12800\n",
      "Num of video:  12900\n",
      "Num of video:  13000\n",
      "Num of video:  13100\n",
      "Num of video:  13200\n",
      "Num of video:  13300\n",
      "Num of video:  13400\n",
      "Num of video:  13500\n",
      "Num of video:  13600\n",
      "Num of video:  13700\n",
      "Num of video:  13800\n",
      "Num of video:  13900\n",
      "Num of video:  14000\n",
      "Num of video:  14100\n",
      "Num of video:  14200\n",
      "Num of video:  14300\n",
      "Num of video:  14400\n",
      "Num of video:  14500\n",
      "Num of video:  14600\n",
      "Num of video:  14700\n",
      "Num of video:  14800\n",
      "Num of video:  14900\n",
      "Num of video:  15000\n",
      "Num of video:  15100\n",
      "Num of video:  15200\n",
      "Num of video:  15300\n",
      "Num of video:  15400\n",
      "Num of video:  15500\n",
      "Num of video:  15600\n",
      "Num of video:  15700\n",
      "Num of video:  15800\n",
      "Num of video:  15900\n",
      "Num of video:  16000\n",
      "Num of video:  16100\n",
      "Num of video:  16200\n",
      "Num of video:  16300\n",
      "Num of video:  16400\n",
      "Num of video:  16500\n",
      "Num of video:  16600\n",
      "Num of video:  16700\n",
      "Num of video:  16800\n",
      "Num of video:  16900\n",
      "Num of video:  17000\n",
      "Num of video:  17100\n",
      "Num of video:  17200\n",
      "Num of video:  17300\n",
      "Num of video:  17400\n",
      "Num of video:  17500\n",
      "Num of video:  17600\n",
      "Num of video:  17700\n",
      "Num of video:  17800\n",
      "Num of video:  17900\n",
      "Num of video:  18000\n",
      "Num of video:  18100\n",
      "Num of video:  18200\n",
      "Num of video:  18300\n",
      "Num of video:  18400\n",
      "Num of video:  18500\n",
      "     video_id  group  one_min_session current_moderation_type  \\\n",
      "0  2021489975      1                1                    None   \n",
      "1  2021489975      1                2                    None   \n",
      "2  2021489975      1                3                    None   \n",
      "3  2021489975      1                4                    None   \n",
      "4  2021489975      1                5                    None   \n",
      "\n",
      "    first_moderation_type  total_moderation_count  \\\n",
      "0  Educational Moderation                       0   \n",
      "1  Educational Moderation                       0   \n",
      "2  Educational Moderation                       0   \n",
      "3  Educational Moderation                       0   \n",
      "4  Educational Moderation                       0   \n",
      "\n",
      "                                 chat_content_concat  chat_count  month  day  \\\n",
      "0  JOIN THE DISCORD SERVER!! :)💜 https://discord....          20      1    3   \n",
      "1  WE BACK! walk around the house yes  got the no...          10      1    3   \n",
      "2  or start oof the day goodnight lylaaa [qtsSip]...           6      1    3   \n",
      "3  yeah what about it idk whats been tracked tho ...           9      1    3   \n",
      "4  Yeah sadly can't play it on stream Not suppose...           8      1    3   \n",
      "\n",
      "   ...  Density ViewerNet_GCC  ViewerNet_ClusteringCoefficient  \\\n",
      "0  ...  0.00000           1.0                              0.0   \n",
      "1  ...  0.00000           1.0                              0.0   \n",
      "2  ...  0.00000           1.0                              0.0   \n",
      "3  ...  0.00000           1.0                              0.0   \n",
      "4  ...  0.02381           1.0                              0.0   \n",
      "\n",
      "   ViewerNet_AvgDegreeCentrality  ViewerNet_Connectivity  ViewerNet_Density  \\\n",
      "0                            0.0                     0.0                0.0   \n",
      "1                            0.0                     0.0                0.0   \n",
      "2                            0.0                     0.0                0.0   \n",
      "3                            0.0                     0.0                0.0   \n",
      "4                            0.0                     0.0                0.0   \n",
      "\n",
      "   total_punimod_count  total_edumod_count  current_punimod_count  \\\n",
      "0                    0                   0                      0   \n",
      "1                    0                   0                      0   \n",
      "2                    0                   0                      0   \n",
      "3                    0                   0                      0   \n",
      "4                    0                   0                      0   \n",
      "\n",
      "   current_edumod_count  \n",
      "0                     0  \n",
      "1                     0  \n",
      "2                     0  \n",
      "3                     0  \n",
      "4                     0  \n",
      "\n",
      "[5 rows x 91 columns]\n"
     ]
    }
   ],
   "source": [
    "def read_csv_in_order(folder_path):\n",
    "    # get every file's name and rank\n",
    "    files = sorted([f for f in os.listdir(folder_path) if f.endswith('.csv')])\n",
    "    dataframes = [] # store the files\n",
    "    for file in files:\n",
    "        file_path = os.path.join(folder_path, file)\n",
    "        df = pd.read_csv(file_path)\n",
    "        dataframes.append(df)\n",
    "        if len(dataframes)%100 == 0:\n",
    "            print(\"Num of video: \", len(dataframes))\n",
    "    return dataframes\n",
    "\n",
    "folder_path = 'E:/data/0324 twitch/one_min_level_filled'  # 替换为实际路径\n",
    "dataframes = read_csv_in_order(folder_path)\n",
    "print(dataframes[0].head())"
   ],
   "metadata": {
    "collapsed": false,
    "pycharm": {
     "name": "#%%\n"
    }
   }
  },
  {
   "cell_type": "markdown",
   "source": [
    "## 1. Dataset Analysis"
   ],
   "metadata": {
    "collapsed": false,
    "pycharm": {
     "name": "#%% md\n"
    }
   }
  },
  {
   "cell_type": "code",
   "execution_count": 9,
   "outputs": [
    {
     "name": "stdout",
     "output_type": "stream",
     "text": [
      "Stats (mean, medi, std): 277.07093537598445 237.0 250.93066600832216\n"
     ]
    },
    {
     "data": {
      "text/plain": "<Figure size 432x288 with 1 Axes>",
      "image/png": "[encoded data removed]"
     },
     "metadata": {
      "needs_background": "light"
     },
     "output_type": "display_data"
    }
   ],
   "source": [
    "# lenght of videos\n",
    "videoLenAll = [len(df) for df in dataframes]\n",
    "print(\"Stats (mean, medi, std):\", np.mean(videoLenAll), np.median(videoLenAll), np.std(videoLenAll))\n",
    "plt.hist(videoLenAll, bins=100, density=True, alpha=0.7)\n",
    "plt.xlabel('Value')\n",
    "plt.ylabel('Frequency')\n",
    "plt.show()"
   ],
   "metadata": {
    "collapsed": false,
    "pycharm": {
     "name": "#%%\n"
    }
   }
  },
  {
   "cell_type": "code",
   "execution_count": 2,
   "outputs": [],
   "source": [
    "# topic 1 pos\n",
    "bot_label = np.load('Dataset/twi22/t1/t1_pos_bot_label.npy')\n",
    "treat_indicator = np.load('Dataset/twi22/t1/t1_pos_T_label.npy')\n",
    "outcome = np.load('Dataset/twi22/t1/t1_pos_y.npy')\n",
    "prop_label = np.load('Dataset/twi22/t1/t1_pos_prop_label.npy')\n",
    "analysis = pd.DataFrame({'Label': bot_label, 'prop': prop_label, 'Treat': treat_indicator, 'outcome': outcome})"
   ],
   "metadata": {
    "collapsed": false,
    "pycharm": {
     "name": "#%%\n"
    }
   }
  },
  {
   "cell_type": "code",
   "execution_count": 4,
   "outputs": [
    {
     "name": "stdout",
     "output_type": "stream",
     "text": [
      "Postive:  98574 Negative:  65804\n"
     ]
    }
   ],
   "source": [
    "# proportion of opinion\n",
    "print(\"Postive: \", len(analysis[analysis['outcome']>0]), \"Negative: \", len(analysis[analysis['outcome']<0]))"
   ],
   "metadata": {
    "collapsed": false,
    "pycharm": {
     "name": "#%%\n"
    }
   }
  }
 ],
 "metadata": {
  "kernelspec": {
   "display_name": "Python 3",
   "language": "python",
   "name": "python3"
  },
  "language_info": {
   "codemirror_mode": {
    "name": "ipython",
    "version": 3
   },
   "file_extension": ".py",
   "mimetype": "text/x-python",
   "name": "python",
   "nbconvert_exporter": "python",
   "pygments_lexer": "ipython3",
   "version": "3.9.7"
  }
 },
 "nbformat": 4,
 "nbformat_minor": 5
}